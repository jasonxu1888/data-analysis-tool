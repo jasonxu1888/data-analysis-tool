{
 "cells": [
  {
   "cell_type": "code",
   "execution_count": 26,
   "metadata": {},
   "outputs": [
    {
     "name": "stdout",
     "output_type": "stream",
     "text": [
      "Requirement already satisfied: xlsxwriter in c:\\users\\trifo\\appdata\\local\\programs\\python\\python310\\lib\\site-packages (3.0.2)\n"
     ]
    },
    {
     "name": "stderr",
     "output_type": "stream",
     "text": [
      "WARNING: You are using pip version 21.3.1; however, version 22.1.2 is available.\n",
      "You should consider upgrading via the 'C:\\Users\\trifo\\AppData\\Local\\Programs\\Python\\Python310\\python.exe -m pip install --upgrade pip' command.\n"
     ]
    }
   ],
   "source": [
    "!pip install xlsxwriter\n",
    "import numpy as np\n",
    "import pandas as pd\n",
    "import matplotlib as mpl\n",
    "import math\n",
    "import xlsxwriter     \n",
    "from IPython.core.interactiveshell import InteractiveShell\n",
    "InteractiveShell.ast_node_interactivity = 'all'\n",
    "pd.set_option('display.max_rows', None)\n",
    "pd.set_option(\"display.precision\", 10)"
   ]
  },
  {
   "cell_type": "code",
   "execution_count": 27,
   "metadata": {},
   "outputs": [
    {
     "data": {
      "text/plain": [
       "[8.3005375, 8.986234375000004, 8.500733749999995, 10.618086250000003]"
      ]
     },
     "execution_count": 27,
     "metadata": {},
     "output_type": "execute_result"
    },
    {
     "data": {
      "text/plain": [
       "[3.3202150000000006, 3.5944937500000016, 3.4002934999999983, 4.247234500000001]"
      ]
     },
     "execution_count": 27,
     "metadata": {},
     "output_type": "execute_result"
    }
   ],
   "source": [
    "#---------------------------------------------------------------CV Stuff---------------------------------------------------------------#\n",
    "############ FILL IN the 'PotentialConstant' below for CV Files (RHE Value) ############\n",
    "PotentialConstant = 0.226\n",
    "###########\n",
    "\n",
    "Area = 2.75 * 2.75 * math.pi / 100\n",
    "Beginning = 0.4\n",
    "End = 0.2\n",
    "DeltaV = Beginning - End\n",
    "\n",
    "############ FILL IN the 'FileList' below with all CV file names comma-separated like current format ############\n",
    "FileList = ['2_FeAc_NC-ML-9_big_batch_121521 cond CV-1.txt', '2_FeAc_NC-ML-9_big_batch_121521 cond CV-2.txt', \n",
    "'2_FeAc_NC-ML-9_big_batch_121521 cond CV-3.txt', '2_FeAc_NC-ML-9_big_batch_121521 CV aft ORR.txt']\n",
    "#All files will be plotted against each other\n",
    "#Last two files will be plotted against each other\n",
    "#Last two files will have the integral calculated\n",
    "###########\n",
    "\n",
    "Range = len(FileList)\n",
    "DataFrameListBeforeTreatment = []\n",
    "DataFrameList = []\n",
    "ScanRateList = []\n",
    "ForwardCapacitanceList = []\n",
    "BackwardCapacitanceList = []\n",
    "TotalChargeList = []\n",
    "TotalCapacitanceList = []\n",
    "CycleList = []\n",
    "TableList = []\n",
    "\n",
    "for file in FileList:\n",
    "    df = pd.read_csv(file)\n",
    "    DataFrameList.append(df)\n",
    "\n",
    "    for rowidx in range(df.shape[0]):\n",
    "        if ''.join(x for x in df.iloc[rowidx, 0] if not x.isdigit() and x not in '.').strip() == \"Scan Rate (V/s) =\":\n",
    "            ScanRateList.append(float(''.join(x for x in df.iloc[rowidx, 0] if x.isdigit() or x in '.')))\n",
    "            break\n",
    "\n",
    "    for rowidx in range(df.shape[0]):\n",
    "        if ''.join(x for x in df.iloc[rowidx, 0] if not x.isdigit()).strip() == \"Segment =\":\n",
    "            CycleList.append(float(''.join(x for x in df.iloc[rowidx, 0] if x.isdigit())))\n",
    "            break\n",
    "\n",
    "    CycleEndValue = df.iloc[-1, 0]\n",
    "    for rowidx in range(df.shape[0] - 2, -1, -1):\n",
    "        if df.iloc[rowidx, 0] == CycleEndValue:\n",
    "            CycleBeginning = rowidx\n",
    "            break\n",
    "    df.drop(df.index[0:CycleBeginning - 1], inplace = True)\n",
    "    df.reset_index(drop=True, inplace = True)\n",
    "    df.iloc[:, 0] = pd.to_numeric(df.iloc[:, 0])\n",
    "    df.iloc[:, 1] = pd.to_numeric(df.iloc[:, 1])\n",
    "    df.columns = ['Potential/V', 'Current/I']\n",
    "    DataFrameListBeforeTreatment.append(df.copy(deep = True))\n",
    "    df.columns = ['Potential/V vs RHE', 'Current Density/mA/cm^2']\n",
    "    df.iloc[:, 0] += PotentialConstant\n",
    "    df.iloc[:, 0] = df.iloc[:, 0].round(3)\n",
    "    df.iloc[:, 1] = df.iloc[:, 1] * 1000 / Area\n",
    "\n",
    "\n",
    "#CycleList\n",
    "#Capacitance Calculation\n",
    "\n",
    "for index, dataframe in enumerate(DataFrameList):\n",
    "    forwardcapacitance = 0\n",
    "    for rowidx in range(dataframe.shape[0]):\n",
    "        if CycleList[index] % 2 == 0:\n",
    "            if dataframe.iloc[rowidx, 0] <= Beginning:\n",
    "                forwardcapacitance += (dataframe.iloc[rowidx - 2, 0] - dataframe.iloc[rowidx - 1, 0]) * (dataframe.iloc[rowidx - 2, 1] + dataframe.iloc[rowidx - 1, 1]) * Area / (2 * ScanRateList[index])\n",
    "                if dataframe.iloc[rowidx, 0] <= End:\n",
    "                    break\n",
    "        if CycleList[index] % 2 == 1:\n",
    "            if dataframe.iloc[rowidx, 0] >= End:\n",
    "                forwardcapacitance += (dataframe.iloc[rowidx - 2, 0] - dataframe.iloc[rowidx - 1, 0]) * (dataframe.iloc[rowidx - 2, 1] + dataframe.iloc[rowidx - 1, 1]) * Area / (2 * ScanRateList[index])\n",
    "                if dataframe.iloc[rowidx, 0] >= Beginning:\n",
    "                    break\n",
    "    ForwardCapacitanceList.append(forwardcapacitance)\n",
    "\n",
    "for index, dataframe in enumerate(DataFrameList):\n",
    "    backwardcapacitance = 0\n",
    "    for rowidx in range(dataframe.shape[0] - 1, -1, -1):\n",
    "        if CycleList[index] % 2 == 0:\n",
    "            if dataframe.iloc[rowidx, 0] <= Beginning:\n",
    "                backwardcapacitance += (dataframe.iloc[rowidx - 2, 0] - dataframe.iloc[rowidx - 1, 0]) * (dataframe.iloc[rowidx - 2, 1] + dataframe.iloc[rowidx - 1, 1]) * Area / (2 * ScanRateList[index])\n",
    "                if dataframe.iloc[rowidx, 0] <= End:\n",
    "                    break\n",
    "        if CycleList[index] % 2 == 1:\n",
    "            if dataframe.iloc[rowidx, 0] >= End:\n",
    "                backwardcapacitance += (dataframe.iloc[rowidx - 2, 0] - dataframe.iloc[rowidx - 1, 0]) * (dataframe.iloc[rowidx - 2, 1] + dataframe.iloc[rowidx - 1, 1]) * Area / (2 * ScanRateList[index])\n",
    "                if dataframe.iloc[rowidx, 0] >= Beginning:\n",
    "                    break\n",
    "    BackwardCapacitanceList.append(backwardcapacitance)\n",
    "\n",
    "for count, idx in enumerate(range(Range)):\n",
    "    TotalCapacitanceList.append(abs((ForwardCapacitanceList[idx] + BackwardCapacitanceList[idx]) / (2 * DeltaV)))\n",
    "    TotalChargeList.append(abs(ForwardCapacitanceList[idx] + BackwardCapacitanceList[idx]))\n",
    "\n",
    "#---------------------------------------------------------------Integral Calculation Portion---------------------------------------------------------------#\n",
    "############ FILL IN starting and ending x-value of integration for the TOP (from left to right of x-axis) ############\n",
    "TopStartingIntegrationXValue = 0.4\n",
    "TopEndingIntegrationXValue = 0.8\n",
    "############\n",
    "\n",
    "TopCurveCalculation = []\n",
    "TopLineCalculation = []\n",
    "TopIntegralFinalValues = []\n",
    "\n",
    "############ FILL IN starting and ending x-value of integration for the BOTTOM (from left to right of x-axis) ############\n",
    "BottomStartingIntegrationXValue = 0.4\n",
    "BottomEndingIntegrationXValue = 0.8\n",
    "###########\n",
    "\n",
    "BottomCurveCalculation = []\n",
    "BottomLineCalculation = []\n",
    "BottomIntegralFinalValues = []\n",
    "\n",
    "#Top Integral Calculation\n",
    "for idx in range(len(FileList) - 2, len(FileList)):\n",
    "    TopCurveValue = 0\n",
    "    TopLineValue = 0\n",
    "    TopStartRowIndex = None\n",
    "    TopEndRowIndex = None\n",
    "    normaldf = DataFrameList[idx]\n",
    "    modifieddf = normaldf.copy(deep = True)\n",
    "\n",
    "    for rowidx in range(df.shape[0]):\n",
    "        if (normaldf.iloc[rowidx, 0] == TopStartingIntegrationXValue):\n",
    "            TopStartRowIndex = rowidx\n",
    "            break\n",
    "    for rowidx in range(df.shape[0]):\n",
    "        if (normaldf.iloc[rowidx, 0] == TopEndingIntegrationXValue):\n",
    "            TopEndRowIndex = rowidx\n",
    "            break\n",
    "\n",
    "    slope = (normaldf.iloc[TopEndRowIndex, 1] - normaldf.iloc[TopStartRowIndex, 1]) / (normaldf.iloc[TopEndRowIndex, 0] - normaldf.iloc[TopStartRowIndex, 0])\n",
    "    yintercept = normaldf.iloc[TopEndRowIndex, 1] - (slope * normaldf.iloc[TopEndRowIndex, 0])\n",
    "    for rowidx in range(TopStartRowIndex, TopEndRowIndex + 1):\n",
    "        modifieddf.iloc[rowidx, 1] = (slope * normaldf.iloc[rowidx, 0]) + yintercept\n",
    "\n",
    "    for rowidx in range(normaldf.shape[0]):\n",
    "        if normaldf.iloc[rowidx, 0] >= TopStartingIntegrationXValue:\n",
    "            TopCurveValue += (normaldf.iloc[rowidx - 2, 0] - normaldf.iloc[rowidx - 1, 0]) * (normaldf.iloc[rowidx - 2, 1] + normaldf.iloc[rowidx - 1, 1]) * Area / (2 * ScanRateList[idx])\n",
    "            if normaldf.iloc[rowidx, 0] >= TopEndingIntegrationXValue:\n",
    "                break\n",
    "    TopCurveCalculation.append(abs(TopCurveValue))\n",
    "\n",
    "    for rowidx in range(modifieddf.shape[0]):\n",
    "        if modifieddf.iloc[rowidx, 0] >= TopStartingIntegrationXValue:\n",
    "            TopLineValue += (modifieddf.iloc[rowidx - 2, 0] - modifieddf.iloc[rowidx - 1, 0]) * (modifieddf.iloc[rowidx - 2, 1] + modifieddf.iloc[rowidx - 1, 1]) * Area / (2 * ScanRateList[idx])\n",
    "            if modifieddf.iloc[rowidx, 0] >= TopEndingIntegrationXValue:\n",
    "                break\n",
    "    TopLineCalculation.append(abs(TopLineValue))\n",
    "\n",
    "#Bottom Integral Calculation\n",
    "for idx in range(len(FileList) - 2, len(FileList)):\n",
    "    BottomCurveValue = 0\n",
    "    BottomLineValue = 0\n",
    "    BottomStartRowIndex = None\n",
    "    BottomEndRowIndex = None\n",
    "    regulardf = DataFrameList[idx]\n",
    "    altereddf = regulardf.copy(deep=True)\n",
    "\n",
    "    for rowidx in range(normaldf.shape[0] - 1, -1, -1):\n",
    "        if regulardf.iloc[rowidx, 0] == BottomStartingIntegrationXValue:\n",
    "            BottomStartRowIndex = rowidx\n",
    "            break\n",
    "    \n",
    "    for rowidx in range(normaldf.shape[0] - 1, -1, -1):\n",
    "        if regulardf.iloc[rowidx, 0] == BottomEndingIntegrationXValue:\n",
    "            BottomEndRowIndex = rowidx\n",
    "            break\n",
    "    \n",
    "    otherslope = (regulardf.iloc[BottomEndRowIndex, 1] - regulardf.iloc[BottomStartRowIndex, 1]) / (regulardf.iloc[BottomEndRowIndex, 0] - regulardf.iloc[BottomStartRowIndex, 0])\n",
    "    otheryintercept = regulardf.iloc[BottomEndRowIndex, 1] - (otherslope * regulardf.iloc[BottomEndRowIndex, 0])\n",
    "\n",
    "    for rowidx in range(BottomStartRowIndex, BottomEndRowIndex - 1, -1):\n",
    "        altereddf.iloc[rowidx, 1] = (otherslope * regulardf.iloc[rowidx, 0]) + otheryintercept\n",
    "\n",
    "    for rowidx in range(regulardf.shape[0] - 1, -1, -1):\n",
    "        if regulardf.iloc[rowidx, 0] >= BottomStartingIntegrationXValue:\n",
    "            BottomCurveValue += (regulardf.iloc[rowidx - 2, 0] - regulardf.iloc[rowidx - 1, 0]) * (regulardf.iloc[rowidx - 2, 1] + regulardf.iloc[rowidx - 1, 1]) * Area / (2 * ScanRateList[idx])\n",
    "            if regulardf.iloc[rowidx, 0] >= BottomEndingIntegrationXValue:\n",
    "                \n",
    "                break\n",
    "    BottomCurveCalculation.append(abs(BottomCurveValue))\n",
    "\n",
    "    for rowidx in range(altereddf.shape[0] - 1, -1, -1):\n",
    "        if altereddf.iloc[rowidx, 0] >= BottomStartingIntegrationXValue:\n",
    "            BottomLineValue += (altereddf.iloc[rowidx - 2, 0] - altereddf.iloc[rowidx - 1, 0]) * (altereddf.iloc[rowidx - 2, 1] + altereddf.iloc[rowidx - 1, 1]) * Area / (2 * ScanRateList[idx])\n",
    "            if altereddf.iloc[rowidx, 0] >= BottomEndingIntegrationXValue:\n",
    "                break\n",
    "    BottomLineCalculation.append(abs(BottomLineValue))\n",
    "    \n",
    "  \n",
    "\n",
    "for idx in range(0, 2):\n",
    "    TopIntegralFinalValues.append(abs(TopCurveCalculation[idx] - TopLineCalculation[idx]))\n",
    "    BottomIntegralFinalValues.append(abs(BottomCurveCalculation[idx] - BottomLineCalculation[idx]))"
   ]
  },
  {
   "cell_type": "code",
   "execution_count": 28,
   "metadata": {},
   "outputs": [
    {
     "data": {
      "text/plain": [
       "0"
      ]
     },
     "execution_count": 28,
     "metadata": {},
     "output_type": "execute_result"
    },
    {
     "data": {
      "text/plain": [
       "0"
      ]
     },
     "execution_count": 28,
     "metadata": {},
     "output_type": "execute_result"
    },
    {
     "data": {
      "text/plain": [
       "0"
      ]
     },
     "execution_count": 28,
     "metadata": {},
     "output_type": "execute_result"
    },
    {
     "data": {
      "text/plain": [
       "0"
      ]
     },
     "execution_count": 28,
     "metadata": {},
     "output_type": "execute_result"
    },
    {
     "data": {
      "text/plain": [
       "0"
      ]
     },
     "execution_count": 28,
     "metadata": {},
     "output_type": "execute_result"
    },
    {
     "data": {
      "text/plain": [
       "0"
      ]
     },
     "execution_count": 28,
     "metadata": {},
     "output_type": "execute_result"
    }
   ],
   "source": [
    "#Outputting graphs and plots to Excel file\n",
    "ExcelFileName = FileList[0][0:-14] + '.xlsx'\n",
    "SheetName = 'CV Data'\n",
    "writer = pd.ExcelWriter(ExcelFileName, engine='xlsxwriter')\n",
    "col = 0\n",
    "for idx in range(len(FileList)):\n",
    "    DataFrameListBeforeTreatment[idx].to_excel(writer, sheet_name = SheetName, index = False, startrow = 1, startcol = col)\n",
    "    col += len(DataFrameListBeforeTreatment[idx].columns)\n",
    "    DataFrameList[idx].to_excel(writer, sheet_name = SheetName, index = False, startrow = 1, startcol = col)\n",
    "    col += len(DataFrameListBeforeTreatment[idx].columns) + 2\n",
    "\n",
    "Legend = []\n",
    "for file in FileList:\n",
    "    name = file[0:len(file) - 4]\n",
    "    Legend.append(name)\n",
    "worksheet = writer.sheets[SheetName]\n",
    "column = 0\n",
    "for idx in range(len(FileList)):\n",
    "    worksheet.write_string(0, column, Legend[idx])\n",
    "    column += len(DataFrameListBeforeTreatment[idx].columns) + len(DataFrameListBeforeTreatment[idx].columns) + 2\n",
    "\n",
    "workbook = writer.book\n",
    "chart = workbook.add_chart({'type': 'scatter', 'subtype': 'smooth'})\n",
    "namecol = 0\n",
    "categorycol = 2\n",
    "valuescol = 3\n",
    "for idx in range(len(FileList)):\n",
    "    chart.add_series({\n",
    "        'name': [SheetName, 0, namecol, 0, namecol],\n",
    "        'categories': [SheetName, 2, categorycol, 2 + len(DataFrameList[idx]) - 1, categorycol],\n",
    "        'values': [SheetName, 2,  valuescol, 2 + len(DataFrameList[idx]) - 1, valuescol],\n",
    "    })\n",
    "    namecol += 6\n",
    "    categorycol += 6\n",
    "    valuescol += 6\n",
    "chart.set_title({'name': 'All CVs'})\n",
    "chart.set_x_axis({'min': 0, 'max': 1, 'name': 'Potential, V vs RHE'})\n",
    "chart.set_y_axis({'name': 'Current Density, mA/cm^2'})\n",
    "worksheet.insert_chart(0, col, chart)\n",
    "\n",
    "othernamecol = col - 12\n",
    "othercategorycol = col - 10\n",
    "othervaluescol = col - 9\n",
    "otherchart = workbook.add_chart({'type': 'scatter', 'subtype': 'smooth'})\n",
    "for idx in range(len(FileList) - 2, len(FileList)):\n",
    "    otherchart.add_series({\n",
    "        'name': [SheetName, 0, othernamecol, 0, othernamecol],\n",
    "        'categories': [SheetName, 2, othercategorycol, 2 + len(DataFrameList[idx]) - 1, othercategorycol],\n",
    "        'values': [SheetName, 2,  othervaluescol, 2 + len(DataFrameList[idx]) - 1, othervaluescol],\n",
    "    })\n",
    "    othernamecol += 6\n",
    "    othercategorycol += 6\n",
    "    othervaluescol +=6\n",
    "otherchart.set_title({'name': 'CV before and after ORR'})\n",
    "otherchart.set_x_axis({'min': 0, 'max': 1, 'name': 'Potential, V vs RHE'})\n",
    "otherchart.set_y_axis({'name': 'Current Density, mA/cm^2'})\n",
    "worksheet.insert_chart(15, col, otherchart)\n",
    "\n",
    "DeltaVList = []\n",
    "TableHeader = []\n",
    "for idx in range(len(FileList)):\n",
    "    ForwardCapacitanceList[idx] = abs(ForwardCapacitanceList[idx])\n",
    "    BackwardCapacitanceList[idx] = abs(BackwardCapacitanceList[idx])\n",
    "    DeltaVList.append(DeltaV)\n",
    "    TableHeader.append(Legend[idx][32:])\n",
    "TableList = [ScanRateList, DeltaVList, ForwardCapacitanceList, BackwardCapacitanceList, TotalChargeList, TotalCapacitanceList]\n",
    "dftable = pd.DataFrame(TableList)\n",
    "dftable.columns = TableHeader\n",
    "dftable.index = ['Scan Rate (V/s)', 'Delta V (V)', 'Double Layer Charge Pos (mA)', 'Double Layer Charge Neg (mA)', 'Total Charge (mA)', 'Capacitance (mF)']\n",
    "dftable.to_excel(writer, sheet_name = SheetName, startrow = 30, startcol = col)\n",
    "\n",
    "OtherTableHeader = []\n",
    "for idx in range(len(FileList) - 2, len(FileList)):\n",
    "    OtherTableHeader.append(Legend[idx][32:])\n",
    "OtherTableList = [TopIntegralFinalValues, BottomIntegralFinalValues]\n",
    "otherdftable = pd.DataFrame(OtherTableList)\n",
    "otherdftable.columns = OtherTableHeader\n",
    "otherdftable.index = ['Top Charge (mCs)', 'Bottom Charge (mCs)']\n",
    "otherdftable.to_excel(writer, sheet_name = SheetName, startrow = 38, startcol = col)\n",
    "\n",
    "######REMOVE THIS LATER WHEN YOU PASTE ORR STUFF BACK IN\n",
    "writer.save()"
   ]
  }
 ],
 "metadata": {
  "kernelspec": {
   "display_name": "Python 3.10.1 64-bit",
   "language": "python",
   "name": "python3"
  },
  "language_info": {
   "codemirror_mode": {
    "name": "ipython",
    "version": 3
   },
   "file_extension": ".py",
   "mimetype": "text/x-python",
   "name": "python",
   "nbconvert_exporter": "python",
   "pygments_lexer": "ipython3",
   "version": "3.10.1"
  },
  "orig_nbformat": 4,
  "vscode": {
   "interpreter": {
    "hash": "6429e7ccc7c3719b21c1bf706142e8020d560237833d6c035ca6dea55fe035c1"
   }
  }
 },
 "nbformat": 4,
 "nbformat_minor": 2
}
